{
 "cells": [
  {
   "cell_type": "markdown",
   "metadata": {},
   "source": [
    "The purpose of this analysis is to examine the efficacy of college standardized admissions tests and whether they're unfair to particular demographics. As such, we will be investigating the potential correlation between SAT/AP test scores and various demographic factors, such as race, gender, and income. \n",
    "\n",
    "Data was taken from the NYC Open Data website concerning NYC high schools. The files are as follows:\n",
    "\n",
    "    * 'ap_scores' - Data on AP test scores\n",
    "    * 'class_size' - Data on class size\n",
    "    * 'demographics' - Data on class high school demographics\n",
    "    * 'graduation_outcomes' - Data on graduation rates, etc.\n",
    "    * 'hs_directory' - A general directory of the high schools\n",
    "    * 'sat_results' - Data on SAT scores\n",
    "    * 'all_survey' - Data on surveys from all NYC high schools\n",
    "    * 'd75_survey' - Data on surveys from NYC district 75"
   ]
  },
  {
   "cell_type": "code",
   "execution_count": 66,
   "metadata": {},
   "outputs": [
    {
     "name": "stdout",
     "output_type": "stream",
     "text": [
      "['ap_scores.csv', 'class_size.csv', 'demographics.csv', 'graduation_outcomes.csv', 'hs_directory.csv', 'sat_results.csv']\n",
      "Index(['DBN', 'SchoolName', 'AP Test Takers ', 'Total Exams Taken',\n",
      "       'Number of Exams with scores 3 4 or 5'],\n",
      "      dtype='object')\n",
      "Index(['CSD', 'BOROUGH', 'SCHOOL CODE', 'SCHOOL NAME', 'GRADE ',\n",
      "       'PROGRAM TYPE', 'CORE SUBJECT (MS CORE and 9-12 ONLY)',\n",
      "       'CORE COURSE (MS CORE and 9-12 ONLY)', 'SERVICE CATEGORY(K-9* ONLY)',\n",
      "       'NUMBER OF STUDENTS / SEATS FILLED', 'NUMBER OF SECTIONS',\n",
      "       'AVERAGE CLASS SIZE', 'SIZE OF SMALLEST CLASS', 'SIZE OF LARGEST CLASS',\n",
      "       'DATA SOURCE', 'SCHOOLWIDE PUPIL-TEACHER RATIO'],\n",
      "      dtype='object')\n",
      "Index(['DBN', 'Name', 'schoolyear', 'fl_percent', 'frl_percent',\n",
      "       'total_enrollment', 'prek', 'k', 'grade1', 'grade2', 'grade3', 'grade4',\n",
      "       'grade5', 'grade6', 'grade7', 'grade8', 'grade9', 'grade10', 'grade11',\n",
      "       'grade12', 'ell_num', 'ell_percent', 'sped_num', 'sped_percent',\n",
      "       'ctt_num', 'selfcontained_num', 'asian_num', 'asian_per', 'black_num',\n",
      "       'black_per', 'hispanic_num', 'hispanic_per', 'white_num', 'white_per',\n",
      "       'male_num', 'male_per', 'female_num', 'female_per'],\n",
      "      dtype='object')\n",
      "Index(['Demographic', 'DBN', 'School Name', 'Cohort', 'Total Cohort',\n",
      "       'Total Grads - n', 'Total Grads - % of cohort', 'Total Regents - n',\n",
      "       'Total Regents - % of cohort', 'Total Regents - % of grads',\n",
      "       'Advanced Regents - n', 'Advanced Regents - % of cohort',\n",
      "       'Advanced Regents - % of grads', 'Regents w/o Advanced - n',\n",
      "       'Regents w/o Advanced - % of cohort',\n",
      "       'Regents w/o Advanced - % of grads', 'Local - n', 'Local - % of cohort',\n",
      "       'Local - % of grads', 'Still Enrolled - n',\n",
      "       'Still Enrolled - % of cohort', 'Dropped Out - n',\n",
      "       'Dropped Out - % of cohort'],\n",
      "      dtype='object')\n",
      "Index(['District', 'YTD % Attendance (Avg)', 'YTD Enrollment(Avg)'], dtype='object')\n",
      "Index(['DBN', 'SCHOOL NAME', 'Num of SAT Test Takers',\n",
      "       'SAT Critical Reading Avg. Score', 'SAT Math Avg. Score',\n",
      "       'SAT Writing Avg. Score'],\n",
      "      dtype='object')\n"
     ]
    }
   ],
   "source": [
    "import pandas as pd\n",
    "data ={}\n",
    "\n",
    "## We'll read in the .csv files first. Survey results will be read in during the following step using a different pandas tool.\n",
    "file_list = ['ap_scores.csv','hs_directory.csv','class_size.csv','demographics.csv','graduation_outcomes.csv','sat_results.csv']\n",
    "print(sorted(file_list))\n",
    "for file_name in sorted(file_list):\n",
    "    string_name = str.replace(file_name,'.csv','')\n",
    "    data[string_name] = pd.read_csv(file_name)\n",
    "    print(data[string_name].columns)"
   ]
  },
  {
   "cell_type": "markdown",
   "metadata": {},
   "source": [
    "So far, each of the data sets appear to have a 'DBN' column (with the exception of 'class_size' and 'hs_directory'), which provides a unique identifer for each of the schools. We can use this as we clean and merge the data sets. "
   ]
  },
  {
   "cell_type": "code",
   "execution_count": 70,
   "metadata": {},
   "outputs": [],
   "source": [
    "## Now that we've read in our .csv files, we can read in the two survey files, which are .xlxs files. We should also merge them\n",
    "## together to save time as we add them to our 'data' dictionary. \n",
    "\n",
    "all_survey = pd.io.excel.read_excel('all_survey.xlsx')\n",
    "d75_survey = pd.io.excel.read_excel('d75_survey.xlsx')\n",
    "survey = pd.concat([all_survey,d75_survey],axis=0)"
   ]
  },
  {
   "cell_type": "code",
   "execution_count": 71,
   "metadata": {},
   "outputs": [
    {
     "data": {
      "text/plain": [
       "(1702, 23)"
      ]
     },
     "execution_count": 71,
     "metadata": {},
     "output_type": "execute_result"
    }
   ],
   "source": [
    "## The survey data contains far more columns of information than we need for our analysis. Rather than adding the entire data set\n",
    "## into our dictionary, we can examine the data dictionary that accompanied the data sets to see what is most useful to us. After\n",
    "## a look at the dictionary, it seems as though the following columns are most relevant.\n",
    "columns = [\"DBN\", \"rr_s\", \"rr_t\", \"rr_p\", \"N_s\", \"N_t\", \"N_p\", \"saf_p_11\", \"com_p_11\", \"eng_p_11\", \"aca_p_11\", \"saf_t_11\", \"com_t_11\", \"eng_t_11\", \"aca_t_11\", \"saf_s_11\", \"com_s_11\", \"eng_s_11\", \"aca_s_11\", \"saf_tot_11\", \"com_tot_11\", \"eng_tot_11\", \"aca_tot_11\"]\n",
    "survey['DBN'] = survey['dbn']\n",
    "\n",
    "survey = survey[columns]\n",
    "data['survey'] = survey\n",
    "data['survey'].shape"
   ]
  },
  {
   "cell_type": "code",
   "execution_count": null,
   "metadata": {
    "collapsed": true
   },
   "outputs": [],
   "source": []
  }
 ],
 "metadata": {
  "kernelspec": {
   "display_name": "Python 3",
   "language": "python",
   "name": "python3"
  },
  "language_info": {
   "codemirror_mode": {
    "name": "ipython",
    "version": 3
   },
   "file_extension": ".py",
   "mimetype": "text/x-python",
   "name": "python",
   "nbconvert_exporter": "python",
   "pygments_lexer": "ipython3",
   "version": "3.6.3"
  }
 },
 "nbformat": 4,
 "nbformat_minor": 2
}
